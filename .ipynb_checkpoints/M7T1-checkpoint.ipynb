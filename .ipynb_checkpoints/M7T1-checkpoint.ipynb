{
 "cells": [
  {
   "cell_type": "markdown",
   "id": "494fe00f-8c47-4c58-a7c5-eff3e1a44cf1",
   "metadata": {},
   "source": [
    "# M7T1"
   ]
  },
  {
   "cell_type": "markdown",
   "id": "7221d439-dc60-4225-8b47-195244e69b6d",
   "metadata": {},
   "source": [
    "Fes on programa amb les següents accions:\n",
    "\n",
    "1. Crea 4 variables, a una assigna-li la teva edat, a un altre el teu nom, a un altre el teu cognom i a un altre el valor true si estàs a l'atur o false si no estàs.\n",
    "\n",
    "2. Imprimeix aquestes 4 variables anteriors juntament amb la frase \"El meu nom és: X, el meu cognom és: Y i tinc Z anys. Estic a l'atur? W\"\" on X, Y, Z i W són els valors de les variables que has creat abans.\n",
    "\n",
    "3. Demana 3 dades més mitjançant 3 promps i printa una frase amb els 3 valors que has demanat (pots inventar la temàtica de les dades que demanis)."
   ]
  },
  {
   "cell_type": "code",
   "execution_count": 2,
   "id": "f95331d4-501a-49ec-8f5d-16d2074f59d2",
   "metadata": {},
   "outputs": [],
   "source": [
    "age = 35\n",
    "name = 'Leo'\n",
    "surname = 'Kalugin'\n",
    "unem = True"
   ]
  },
  {
   "cell_type": "code",
   "execution_count": 11,
   "id": "cad4332e-1230-4739-92c4-19462708f008",
   "metadata": {},
   "outputs": [
    {
     "name": "stdout",
     "output_type": "stream",
     "text": [
      "El meu nom és: Leo \n",
      "el meu cognom és: Kalugin \n",
      "i tinc 35  anys \n",
      "Estic a l'atur? True\n"
     ]
    }
   ],
   "source": [
    "print('El meu nom és:', name, '\\nel meu cognom és:', surname, '\\ni tinc', age, \" anys \\nEstic a l'atur?\", unem)"
   ]
  },
  {
   "cell_type": "code",
   "execution_count": 18,
   "id": "4b8c9013-2f60-498e-b166-1701c720c2b7",
   "metadata": {},
   "outputs": [
    {
     "name": "stdin",
     "output_type": "stream",
     "text": [
      "la teva professió? data scientist\n",
      "el teu esport preferit? basketball\n",
      "el teu número d'aniversari? 29\n"
     ]
    }
   ],
   "source": [
    "prof = input('la teva professió?')\n",
    "sport = input('el teu esport preferit?')\n",
    "music = int(input(\"el teu número d'aniversari?\"))"
   ]
  }
 ],
 "metadata": {
  "kernelspec": {
   "display_name": "Python 3 (ipykernel)",
   "language": "python",
   "name": "python3"
  },
  "language_info": {
   "codemirror_mode": {
    "name": "ipython",
    "version": 3
   },
   "file_extension": ".py",
   "mimetype": "text/x-python",
   "name": "python",
   "nbconvert_exporter": "python",
   "pygments_lexer": "ipython3",
   "version": "3.12.4"
  }
 },
 "nbformat": 4,
 "nbformat_minor": 5
}
