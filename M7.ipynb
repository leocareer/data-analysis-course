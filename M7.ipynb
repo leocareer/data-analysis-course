{
 "cells": [
  {
   "cell_type": "markdown",
   "id": "494fe00f-8c47-4c58-a7c5-eff3e1a44cf1",
   "metadata": {},
   "source": [
    "## M7T1"
   ]
  },
  {
   "cell_type": "markdown",
   "id": "7221d439-dc60-4225-8b47-195244e69b6d",
   "metadata": {},
   "source": [
    "Fes on programa amb les següents accions:\n",
    "\n",
    "1. Crea 4 variables, a una assigna-li la teva edat, a un altre el teu nom, a un altre el teu cognom i a un altre el valor true si estàs a l'atur o false si no estàs.\n",
    "\n",
    "2. Imprimeix aquestes 4 variables anteriors juntament amb la frase \"El meu nom és: X, el meu cognom és: Y i tinc Z anys. Estic a l'atur? W\"\" on X, Y, Z i W són els valors de les variables que has creat abans.\n",
    "\n",
    "3. Demana 3 dades més mitjançant 3 promps i printa una frase amb els 3 valors que has demanat (pots inventar la temàtica de les dades que demanis)."
   ]
  },
  {
   "cell_type": "code",
   "execution_count": 2,
   "id": "f95331d4-501a-49ec-8f5d-16d2074f59d2",
   "metadata": {},
   "outputs": [],
   "source": [
    "age = 35\n",
    "name = 'Leo'\n",
    "surname = 'Kalugin'\n",
    "unem = True"
   ]
  },
  {
   "cell_type": "code",
   "execution_count": 11,
   "id": "cad4332e-1230-4739-92c4-19462708f008",
   "metadata": {},
   "outputs": [
    {
     "name": "stdout",
     "output_type": "stream",
     "text": [
      "El meu nom és: Leo \n",
      "el meu cognom és: Kalugin \n",
      "i tinc 35  anys \n",
      "Estic a l'atur? True\n"
     ]
    }
   ],
   "source": [
    "print('El meu nom és:', name, '\\nel meu cognom és:', surname, '\\ni tinc', age, \" anys \\nEstic a l'atur?\", unem)"
   ]
  },
  {
   "cell_type": "code",
   "execution_count": 4,
   "id": "4b8c9013-2f60-498e-b166-1701c720c2b7",
   "metadata": {},
   "outputs": [
    {
     "name": "stdin",
     "output_type": "stream",
     "text": [
      "la teva professió? data scientist\n",
      "el teu esport preferit? basketball\n",
      "el teu número d'aniversari? 29\n"
     ]
    },
    {
     "name": "stdout",
     "output_type": "stream",
     "text": [
      "\n",
      "La meva professió és data scientist, el meu esport preferit és basketball, el meu número d'aniversari és 29\n"
     ]
    }
   ],
   "source": [
    "prof = input('la teva professió?')\n",
    "sport = input('el teu esport preferit?')\n",
    "birth = int(input(\"el teu número d'aniversari?\"))\n",
    "\n",
    "print(f\"\\nLa meva professió és {prof}, el meu esport preferit és {sport}, el meu número d'aniversari és {birth}\")"
   ]
  },
  {
   "cell_type": "markdown",
   "id": "45992054-102e-49a6-bfa1-118510b7c3a2",
   "metadata": {},
   "source": [
    "## M7T2"
   ]
  },
  {
   "cell_type": "markdown",
   "id": "58deaca4-aa61-488a-b277-5c9dd6b88305",
   "metadata": {},
   "source": [
    "Crea un programa que demani l'edat a l'usuari/ària. Si aquesta és igual o major a 18, el programa ha d'imprimir per pantalla \"Ets major d'edat\" si no \"NO ets major d'edat.\""
   ]
  },
  {
   "cell_type": "code",
   "execution_count": 18,
   "id": "b0a86f13-eac5-4175-ac59-5565cd2511f1",
   "metadata": {},
   "outputs": [
    {
     "name": "stdin",
     "output_type": "stream",
     "text": [
      "\n",
      "Hola! Escriu la teva edat: 18\n"
     ]
    },
    {
     "name": "stdout",
     "output_type": "stream",
     "text": [
      "\n",
      "Ets major d'edat\n"
     ]
    }
   ],
   "source": [
    "age = int(input(\"\\nHola! Escriu la teva edat:\"))\n",
    "print(\"\\nEts major d'edat\") if age >= 18 else print(\"\\nNO ets major d'edat\")"
   ]
  },
  {
   "cell_type": "code",
   "execution_count": 20,
   "id": "ff5cdca4-83f0-4752-96fa-b147bc6c2054",
   "metadata": {},
   "outputs": [
    {
     "name": "stdin",
     "output_type": "stream",
     "text": [
      "\n",
      "Hola! Escriu la teva edat: 35\n"
     ]
    },
    {
     "name": "stdout",
     "output_type": "stream",
     "text": [
      "\n",
      "Ets major d'edat\n"
     ]
    }
   ],
   "source": [
    "age = input(\"\\nHola! Escriu la teva edat:\")\n",
    "age = int(age)\n",
    "\n",
    "if age >= 18:\n",
    "    print(\"\\nEts major d'edat\")\n",
    "else:\n",
    "    print(\"\\nNO ets major d'edat\")"
   ]
  },
  {
   "cell_type": "code",
   "execution_count": 23,
   "id": "f70669c3-b76d-4a3e-8ade-2ec4e52710dd",
   "metadata": {},
   "outputs": [
    {
     "name": "stdin",
     "output_type": "stream",
     "text": [
      "\n",
      "Hola! Escriu la teva edat: qwe\n"
     ]
    },
    {
     "name": "stdout",
     "output_type": "stream",
     "text": [
      "\n",
      "Error: si us plau, introdueix un número vàlid.\n"
     ]
    }
   ],
   "source": [
    "try:\n",
    "    age = int(input(\"\\nHola! Escriu la teva edat:\"))\n",
    "    if age >= 18:\n",
    "        print(\"\\nEts major d'edat\")\n",
    "    else:\n",
    "        print(\"\\nNO ets major d'edat\")\n",
    "except ValueError:\n",
    "    print(\"\\nError: si us plau, introdueix un número vàlid.\")"
   ]
  },
  {
   "cell_type": "code",
   "execution_count": null,
   "id": "93b68b61-7e11-4aa2-baa0-0a60874c79be",
   "metadata": {},
   "outputs": [],
   "source": []
  }
 ],
 "metadata": {
  "kernelspec": {
   "display_name": "Python 3 (ipykernel)",
   "language": "python",
   "name": "python3"
  },
  "language_info": {
   "codemirror_mode": {
    "name": "ipython",
    "version": 3
   },
   "file_extension": ".py",
   "mimetype": "text/x-python",
   "name": "python",
   "nbconvert_exporter": "python",
   "pygments_lexer": "ipython3",
   "version": "3.12.4"
  }
 },
 "nbformat": 4,
 "nbformat_minor": 5
}
