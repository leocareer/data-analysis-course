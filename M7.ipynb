{
 "cells": [
  {
   "cell_type": "markdown",
   "id": "494fe00f-8c47-4c58-a7c5-eff3e1a44cf1",
   "metadata": {},
   "source": [
    "## M7T1"
   ]
  },
  {
   "cell_type": "markdown",
   "id": "7221d439-dc60-4225-8b47-195244e69b6d",
   "metadata": {},
   "source": [
    "Fes on programa amb les següents accions:\n",
    "\n",
    "1. Crea 4 variables, a una assigna-li la teva edat, a un altre el teu nom, a un altre el teu cognom i a un altre el valor true si estàs a l'atur o false si no estàs.\n",
    "\n",
    "2. Imprimeix aquestes 4 variables anteriors juntament amb la frase \"El meu nom és: X, el meu cognom és: Y i tinc Z anys. Estic a l'atur? W\"\" on X, Y, Z i W són els valors de les variables que has creat abans.\n",
    "\n",
    "3. Demana 3 dades més mitjançant 3 promps i printa una frase amb els 3 valors que has demanat (pots inventar la temàtica de les dades que demanis)."
   ]
  },
  {
   "cell_type": "code",
   "execution_count": 2,
   "id": "f95331d4-501a-49ec-8f5d-16d2074f59d2",
   "metadata": {},
   "outputs": [],
   "source": [
    "age = 35\n",
    "name = 'Leo'\n",
    "surname = 'Kalugin'\n",
    "unem = True"
   ]
  },
  {
   "cell_type": "code",
   "execution_count": 11,
   "id": "cad4332e-1230-4739-92c4-19462708f008",
   "metadata": {},
   "outputs": [
    {
     "name": "stdout",
     "output_type": "stream",
     "text": [
      "El meu nom és: Leo \n",
      "el meu cognom és: Kalugin \n",
      "i tinc 35  anys \n",
      "Estic a l'atur? True\n"
     ]
    }
   ],
   "source": [
    "print('El meu nom és:', name, '\\nel meu cognom és:', surname, '\\ni tinc', age, \" anys \\nEstic a l'atur?\", unem)"
   ]
  },
  {
   "cell_type": "code",
   "execution_count": 4,
   "id": "4b8c9013-2f60-498e-b166-1701c720c2b7",
   "metadata": {},
   "outputs": [
    {
     "name": "stdin",
     "output_type": "stream",
     "text": [
      "la teva professió? data scientist\n",
      "el teu esport preferit? basketball\n",
      "el teu número d'aniversari? 29\n"
     ]
    },
    {
     "name": "stdout",
     "output_type": "stream",
     "text": [
      "\n",
      "La meva professió és data scientist, el meu esport preferit és basketball, el meu número d'aniversari és 29\n"
     ]
    }
   ],
   "source": [
    "prof = input('la teva professió?')\n",
    "sport = input('el teu esport preferit?')\n",
    "birth = int(input(\"el teu número d'aniversari?\"))\n",
    "\n",
    "print(f\"\\nLa meva professió és {prof}, el meu esport preferit és {sport}, el meu número d'aniversari és {birth}\")"
   ]
  },
  {
   "cell_type": "markdown",
   "id": "45992054-102e-49a6-bfa1-118510b7c3a2",
   "metadata": {},
   "source": [
    "## M7T2"
   ]
  },
  {
   "cell_type": "markdown",
   "id": "58deaca4-aa61-488a-b277-5c9dd6b88305",
   "metadata": {},
   "source": [
    "Crea un programa que demani l'edat a l'usuari/ària. Si aquesta és igual o major a 18, el programa ha d'imprimir per pantalla \"Ets major d'edat\" si no \"NO ets major d'edat.\""
   ]
  },
  {
   "cell_type": "code",
   "execution_count": 18,
   "id": "b0a86f13-eac5-4175-ac59-5565cd2511f1",
   "metadata": {},
   "outputs": [
    {
     "name": "stdin",
     "output_type": "stream",
     "text": [
      "\n",
      "Hola! Escriu la teva edat: 18\n"
     ]
    },
    {
     "name": "stdout",
     "output_type": "stream",
     "text": [
      "\n",
      "Ets major d'edat\n"
     ]
    }
   ],
   "source": [
    "age = int(input(\"\\nHola! Escriu la teva edat:\"))\n",
    "print(\"\\nEts major d'edat\") if age >= 18 else print(\"\\nNO ets major d'edat\")"
   ]
  },
  {
   "cell_type": "code",
   "execution_count": 20,
   "id": "ff5cdca4-83f0-4752-96fa-b147bc6c2054",
   "metadata": {},
   "outputs": [
    {
     "name": "stdin",
     "output_type": "stream",
     "text": [
      "\n",
      "Hola! Escriu la teva edat: 35\n"
     ]
    },
    {
     "name": "stdout",
     "output_type": "stream",
     "text": [
      "\n",
      "Ets major d'edat\n"
     ]
    }
   ],
   "source": [
    "age = input(\"\\nHola! Escriu la teva edat:\")\n",
    "age = int(age)\n",
    "\n",
    "if age >= 18:\n",
    "    print(\"\\nEts major d'edat\")\n",
    "else:\n",
    "    print(\"\\nNO ets major d'edat\")"
   ]
  },
  {
   "cell_type": "code",
   "execution_count": 23,
   "id": "f70669c3-b76d-4a3e-8ade-2ec4e52710dd",
   "metadata": {},
   "outputs": [
    {
     "name": "stdin",
     "output_type": "stream",
     "text": [
      "\n",
      "Hola! Escriu la teva edat: qwe\n"
     ]
    },
    {
     "name": "stdout",
     "output_type": "stream",
     "text": [
      "\n",
      "Error: si us plau, introdueix un número vàlid.\n"
     ]
    }
   ],
   "source": [
    "try:\n",
    "    age = int(input(\"\\nHola! Escriu la teva edat:\"))\n",
    "    if age >= 18:\n",
    "        print(\"\\nEts major d'edat\")\n",
    "    else:\n",
    "        print(\"\\nNO ets major d'edat\")\n",
    "except ValueError:\n",
    "    print(\"\\nError: si us plau, introdueix un número vàlid.\")"
   ]
  },
  {
   "cell_type": "markdown",
   "id": "a08d4f09-9c91-43b9-94ca-ec0222810d78",
   "metadata": {},
   "source": [
    "## M7T3"
   ]
  },
  {
   "cell_type": "markdown",
   "id": "247995ed-f703-4ad2-97cf-02309eb75ff0",
   "metadata": {},
   "source": [
    "Modifica el programa anterior i fes que la resposta segons l'edat segueixi aquest algoritme:\n",
    "\n",
    "Si l'edat és negativa, el programa ha d'imprimir: \"una edat negativa no és possible per a una persona.\"\n",
    "\n",
    "Si l'edat està entre 0 i 17 (ambdós inclosos), el programa ha d'imprimir: \"ets MENOR d'edat.\"\n",
    "\n",
    "Si l'edat està entre 18 i 125 (ambdós inclosos), el programa ha d'imprimir: \"ets MAJOR d'edat.\"\n",
    "\n",
    "Si l'edat és major que 125, el programa ha d'imprimir: \"una edat tan alta és difícil de veure en una persona.\""
   ]
  },
  {
   "cell_type": "code",
   "execution_count": 32,
   "id": "93b68b61-7e11-4aa2-baa0-0a60874c79be",
   "metadata": {},
   "outputs": [
    {
     "name": "stdin",
     "output_type": "stream",
     "text": [
      "\n",
      "Hola! Escriu la teva edat: 17.5\n"
     ]
    },
    {
     "name": "stdout",
     "output_type": "stream",
     "text": [
      "\n",
      "Error: si us plau, introdueix un número vàlid.\n"
     ]
    }
   ],
   "source": [
    "try:\n",
    "    age = int(input(\"\\nHola! Escriu la teva edat:\"))\n",
    "    if age < 0:\n",
    "        print(\"\\nuna edat negativa no és possible per a una persona\")\n",
    "    elif age >= 0 and age <= 17:\n",
    "        print(\"\\nets MENOR d'edat\")\n",
    "    elif age >= 18 and age <= 125:\n",
    "        print(\"\\nets MAJOR d'edat\")\n",
    "    else:\n",
    "        print(\"\\nuna edat tan alta és difícil de veure en una persona\")\n",
    "except ValueError:\n",
    "    print(\"\\nError: si us plau, introdueix un número vàlid.\")"
   ]
  },
  {
   "cell_type": "code",
   "execution_count": 40,
   "id": "989fec5a-994a-40ab-8607-4706c8479d2e",
   "metadata": {},
   "outputs": [
    {
     "name": "stdin",
     "output_type": "stream",
     "text": [
      "\n",
      "Hola! Escriu la teva edat: 126\n"
     ]
    },
    {
     "name": "stdout",
     "output_type": "stream",
     "text": [
      "\n",
      "una edat tan alta és difícil de veure en una persona\n"
     ]
    }
   ],
   "source": [
    "try:\n",
    "    age = int(input(\"\\nHola! Escriu la teva edat:\"))\n",
    "    if age < 0:\n",
    "        print(\"\\nuna edat negativa no és possible per a una persona\")\n",
    "    elif age <= 17:\n",
    "        print(\"\\nets MENOR d'edat\")\n",
    "    elif age <= 125:\n",
    "        print(\"\\nets MAJOR d'edat\")\n",
    "    else:\n",
    "        print(\"\\nuna edat tan alta és difícil de veure en una persona\")\n",
    "except ValueError:\n",
    "    print(\"\\nError: si us plau, introdueix un número vàlid.\")"
   ]
  },
  {
   "cell_type": "markdown",
   "id": "83482058-293b-42a9-83bb-b4624f59b670",
   "metadata": {},
   "source": [
    "## M7T4"
   ]
  },
  {
   "cell_type": "markdown",
   "id": "fcbefa91-a6a4-45aa-b40f-b6aeb99dea20",
   "metadata": {},
   "source": [
    "Crea una llista amb tres tasques inicials: \"netejar la cuina\", \"treure el gos a passejar\" i \"portar a la nena al col·legi\". Un cop creada, imprimeix-la.\n",
    "\n",
    "Després afegeix al final de la llista, les tasques: \"fer esport\", \"meditar\". Torna a imprimir-la per veure que s'han afegit.\n",
    "\n",
    "Elimina la tasca \"netejar la cuina\" i torna a imprimir la llista.\n",
    "\n",
    "Finalment, afegeix la tasca \"cuinar\" a la segona posició de la llista.\n",
    "\n",
    "Ara fes les mateixes tasques, però amb una tupla en lloc d'una llista\n",
    "\n",
    "Ara fes les mateixes tasques, però amb un set"
   ]
  },
  {
   "cell_type": "markdown",
   "id": "ec648ee2-77dc-49d4-a9c5-da8ab97ccb55",
   "metadata": {},
   "source": [
    "### list"
   ]
  },
  {
   "cell_type": "code",
   "execution_count": 54,
   "id": "55453f7d-b6d7-421b-b20f-0946e1d440d7",
   "metadata": {},
   "outputs": [
    {
     "name": "stdout",
     "output_type": "stream",
     "text": [
      "['netejar la cuina', 'treure el gos a passejar', 'portar a la nena al col·legi']\n"
     ]
    }
   ],
   "source": [
    "mylist = [\"netejar la cuina\", \"treure el gos a passejar\", \"portar a la nena al col·legi\"]\n",
    "print(mylist)"
   ]
  },
  {
   "cell_type": "code",
   "execution_count": 55,
   "id": "c910e230-58c3-494b-a2d8-c50690c9e499",
   "metadata": {},
   "outputs": [
    {
     "name": "stdout",
     "output_type": "stream",
     "text": [
      "['netejar la cuina', 'treure el gos a passejar', 'portar a la nena al col·legi', 'fer esport', 'meditar']\n"
     ]
    }
   ],
   "source": [
    "mylist.extend([\"fer esport\", \"meditar\"])\n",
    "print(mylist)"
   ]
  },
  {
   "cell_type": "code",
   "execution_count": 56,
   "id": "3f8a07df-13dc-414e-8014-8ac9fca1fc2f",
   "metadata": {},
   "outputs": [
    {
     "name": "stdout",
     "output_type": "stream",
     "text": [
      "['treure el gos a passejar', 'portar a la nena al col·legi', 'fer esport', 'meditar']\n"
     ]
    }
   ],
   "source": [
    "mylist.remove(\"netejar la cuina\") \n",
    "print(mylist)"
   ]
  },
  {
   "cell_type": "code",
   "execution_count": 59,
   "id": "b85b0d10-f53d-4fbf-a7e9-15ffa9b570ab",
   "metadata": {},
   "outputs": [
    {
     "name": "stdout",
     "output_type": "stream",
     "text": [
      "['treure el gos a passejar', 'cuinar', 'portar a la nena al col·legi', 'fer esport', 'meditar']\n"
     ]
    }
   ],
   "source": [
    "mylist.insert(1, \"cuinar\")\n",
    "print(mylist)"
   ]
  },
  {
   "cell_type": "markdown",
   "id": "3967334e-6d40-4afa-aade-34ab8117300b",
   "metadata": {},
   "source": [
    "### tuple"
   ]
  },
  {
   "cell_type": "code",
   "execution_count": 61,
   "id": "dc318701-5409-464f-8637-e0c5d63e2286",
   "metadata": {},
   "outputs": [
    {
     "name": "stdout",
     "output_type": "stream",
     "text": [
      "('netejar la cuina', 'treure el gos a passejar', 'portar a la nena al col·legi')\n"
     ]
    }
   ],
   "source": [
    "mytuple = (\"netejar la cuina\", \"treure el gos a passejar\", \"portar a la nena al col·legi\")\n",
    "print(mytuple)"
   ]
  },
  {
   "cell_type": "code",
   "execution_count": 62,
   "id": "19bfe2f4-11aa-4d0b-916a-580712668d2c",
   "metadata": {},
   "outputs": [
    {
     "name": "stdout",
     "output_type": "stream",
     "text": [
      "('netejar la cuina', 'treure el gos a passejar', 'portar a la nena al col·legi', 'fer esport', 'meditar')\n"
     ]
    }
   ],
   "source": [
    "mytuple = mytuple + (\"fer esport\", \"meditar\")\n",
    "print(mytuple)"
   ]
  },
  {
   "cell_type": "code",
   "execution_count": 64,
   "id": "642c30db-1c61-46a9-8515-2433c06102ea",
   "metadata": {},
   "outputs": [
    {
     "name": "stdout",
     "output_type": "stream",
     "text": [
      "('treure el gos a passejar', 'portar a la nena al col·legi', 'fer esport', 'meditar')\n"
     ]
    }
   ],
   "source": [
    "mytuple = tuple(item for item in mytuple if item != \"netejar la cuina\")\n",
    "print(mytuple)"
   ]
  },
  {
   "cell_type": "code",
   "execution_count": 65,
   "id": "9624a048-70a0-4224-8128-1a253c3ef595",
   "metadata": {},
   "outputs": [
    {
     "name": "stdout",
     "output_type": "stream",
     "text": [
      "('treure el gos a passejar', 'cuinar', 'portar a la nena al col·legi', 'fer esport', 'meditar')\n"
     ]
    }
   ],
   "source": [
    "mytuple = mytuple[:1] + (\"cuinar\",) + mytuple[1:]\n",
    "print(mytuple)"
   ]
  },
  {
   "cell_type": "markdown",
   "id": "2ef88850-a95b-44d3-a3b9-15c04cf535eb",
   "metadata": {},
   "source": [
    "### set"
   ]
  },
  {
   "cell_type": "code",
   "execution_count": 66,
   "id": "d7fa90e4-3b88-454c-8dce-8bc8d07aa197",
   "metadata": {},
   "outputs": [
    {
     "name": "stdout",
     "output_type": "stream",
     "text": [
      "{'netejar la cuina', 'portar a la nena al col·legi', 'treure el gos a passejar'}\n"
     ]
    }
   ],
   "source": [
    "myset = {\"netejar la cuina\", \"treure el gos a passejar\", \"portar a la nena al col·legi\"}\n",
    "print(myset)"
   ]
  },
  {
   "cell_type": "code",
   "execution_count": 70,
   "id": "87cee91c-0a57-4fd9-abd3-7caffd53eccb",
   "metadata": {},
   "outputs": [
    {
     "name": "stdout",
     "output_type": "stream",
     "text": [
      "{'netejar la cuina', 'fer esport', 'meditar', 'portar a la nena al col·legi', 'treure el gos a passejar'}\n"
     ]
    }
   ],
   "source": [
    "# orderliness is not applicable\n",
    "myset.update([\"fer esport\", \"meditar\"]) \n",
    "print(myset)"
   ]
  },
  {
   "cell_type": "code",
   "execution_count": 71,
   "id": "c290d4c8-3c74-461d-bb67-09d92a7f0391",
   "metadata": {},
   "outputs": [
    {
     "name": "stdout",
     "output_type": "stream",
     "text": [
      "{'fer esport', 'meditar', 'portar a la nena al col·legi', 'treure el gos a passejar'}\n"
     ]
    }
   ],
   "source": [
    "myset.remove(\"netejar la cuina\")\n",
    "print(myset)"
   ]
  },
  {
   "cell_type": "code",
   "execution_count": 72,
   "id": "a9e18f47-89eb-4cc3-83fe-3377ad5bcfc6",
   "metadata": {},
   "outputs": [
    {
     "name": "stdout",
     "output_type": "stream",
     "text": [
      "{'fer esport', 'meditar', 'portar a la nena al col·legi', 'treure el gos a passejar', 'cuinar'}\n"
     ]
    }
   ],
   "source": [
    "# orderliness is not applicable\n",
    "myset.add(\"cuinar\") \n",
    "print(myset)"
   ]
  },
  {
   "cell_type": "markdown",
   "id": "3e90b9d7-d5f7-4f9e-9b34-b20fe16f9eb7",
   "metadata": {},
   "source": [
    "### M7T5"
   ]
  },
  {
   "cell_type": "markdown",
   "id": "d76d2cc6-af60-4abe-a626-f06f4dbbdba0",
   "metadata": {},
   "source": [
    "Crea una llista buida i demana 3 paraules a l'usuari. Si la paraula comença per 'A' i té menys de 7 lletres, afegeix-la a la llista, si no no facis res. Quan hagis acabat de demanar les paraules i avaluar-les, imprimeix la llista completa."
   ]
  },
  {
   "cell_type": "code",
   "execution_count": 82,
   "id": "69c87598-36bb-4175-9d04-af40004d86df",
   "metadata": {},
   "outputs": [
    {
     "name": "stdin",
     "output_type": "stream",
     "text": [
      "escriu la paraula: Aser\n",
      "escriu la paraula: alf\n"
     ]
    },
    {
     "name": "stdout",
     "output_type": "stream",
     "text": [
      "La paraula no comença amb el caràcter 'A' o té més de 7 lletres\n"
     ]
    },
    {
     "name": "stdin",
     "output_type": "stream",
     "text": [
      "escriu la paraula: Amor\n"
     ]
    },
    {
     "name": "stdout",
     "output_type": "stream",
     "text": [
      "['Aser', 'Amor']\n"
     ]
    }
   ],
   "source": [
    "# Accepto que el registre és important i 7 caràcters inclosos\n",
    "mylist = []\n",
    "for _ in range(3):\n",
    "    word = input(\"escriu la paraula:\")\n",
    "    if word.startswith(\"A\") and len(word) <= 7:\n",
    "        mylist.append(word)\n",
    "    else:\n",
    "        print(\"La paraula no comença amb el caràcter 'A' o té més de 7 lletres\")\n",
    "print(mylist)"
   ]
  },
  {
   "cell_type": "markdown",
   "id": "2c51f846-7795-4edf-b690-ce55d514c99e",
   "metadata": {},
   "source": [
    "### M7T6"
   ]
  },
  {
   "cell_type": "markdown",
   "id": "092f5b9d-acc0-4297-9a90-8fc319b643ae",
   "metadata": {},
   "source": [
    "El programa demana quantes paraules vol introduir l'usuari/ària. Aquest, introdueix el nombre de paraules i llavors el programa haurà de començar a demanar les paraules: \"Introdueix la paraula 1\", \"Introdueix la paraula 2\"... \"Introdueix la paraula X\"\n",
    "\n",
    "Aquest missatge es mostra tantes vegades com nombre de paraules ha dit l'usuari/ària que volia introduir (és a dir, el programa demanarà tantes paraules com número ha dit l'usuari/ària al principi).\n",
    "\n",
    "Les paraules s'han d'anar guardant en una llista i un cop han sigut totes introduïdes, s'han de mostrar per pantalla."
   ]
  },
  {
   "cell_type": "code",
   "execution_count": 87,
   "id": "9d487db0-e9a4-47d6-b6e7-937516e8e04c",
   "metadata": {},
   "outputs": [
    {
     "name": "stdin",
     "output_type": "stream",
     "text": [
      "Quantes paraules vols introduir? 1\n",
      "escriu la paraula 1: hello\n"
     ]
    },
    {
     "name": "stdout",
     "output_type": "stream",
     "text": [
      "['hello']\n"
     ]
    }
   ],
   "source": [
    "mylist = []\n",
    "n = int(input(\"Quantes paraules vols introduir?\"))\n",
    "for i in range(n):\n",
    "    mylist.append(input(f\"escriu la paraula {i+1}:\"))\n",
    "print(mylist)"
   ]
  },
  {
   "cell_type": "markdown",
   "id": "aedb7a75-c515-492a-aedc-e97a871e6bad",
   "metadata": {},
   "source": [
    "### M7T7"
   ]
  },
  {
   "cell_type": "markdown",
   "id": "d51af7a1-f406-4af8-85a3-4cdbf3a2272e",
   "metadata": {},
   "source": [
    "Crea una llista amb 10 números. Un cop la tinguis creada, recorre la llista i imprimeix el sumatori de tots els números i la mitjana d'aquests.\n",
    "\n",
    "Fes l'exercici sense utilitzar funcions de python com sum(), la idea és practicar els bucles."
   ]
  },
  {
   "cell_type": "code",
   "execution_count": 97,
   "id": "27fcc8b7-a07e-4479-b7aa-3ecd5a109f92",
   "metadata": {},
   "outputs": [
    {
     "name": "stdout",
     "output_type": "stream",
     "text": [
      "[73, 87, 68, 87, 49, 59, 89, 3, 30, 74]\n",
      "suma =  619\n",
      "average = 61.9\n"
     ]
    }
   ],
   "source": [
    "import random\n",
    "\n",
    "mylist = [random.randint(1, 100) for _ in range(10)]\n",
    "print(mylist)\n",
    "\n",
    "suma = 0\n",
    "for item in mylist:\n",
    "    suma += item\n",
    "aver = suma / len(mylist)\n",
    "print('suma = ', suma)\n",
    "print('average =', aver)"
   ]
  },
  {
   "cell_type": "markdown",
   "id": "87676f78-07cd-4d12-8d6e-c243eb14a881",
   "metadata": {},
   "source": [
    "### M7T8"
   ]
  },
  {
   "cell_type": "markdown",
   "id": "8aab4e9f-c1c2-4430-ac35-6b9a7bd52f2c",
   "metadata": {},
   "source": [
    "Crea una llista amb 10 números. Un cop la tinguis creada, recorre la llista i imprimeix només els nombres parells."
   ]
  },
  {
   "cell_type": "code",
   "execution_count": 102,
   "id": "8b12be6a-a873-45ee-8875-3c58ed02f4bf",
   "metadata": {},
   "outputs": [
    {
     "name": "stdout",
     "output_type": "stream",
     "text": [
      "[84, 71, 5, 43, 44, 47, 86, 60, 30, 38]\n",
      "84\n",
      "44\n",
      "86\n",
      "60\n",
      "30\n",
      "38\n"
     ]
    }
   ],
   "source": [
    "mylist = [random.randint(1, 100) for _ in range(10)]\n",
    "print(mylist)\n",
    "\n",
    "for item in mylist:\n",
    "    if item % 2 == 0: print(item) "
   ]
  },
  {
   "cell_type": "markdown",
   "id": "30226a11-bbae-443f-b430-7cf9d850ccc5",
   "metadata": {},
   "source": [
    "### M7T9"
   ]
  },
  {
   "cell_type": "markdown",
   "id": "cdad02ef-d692-423f-8471-187d118661f9",
   "metadata": {},
   "source": [
    "Crea una llista amb 10 paraules. Un cop la tinguis creada, recorre la llista i imprimeix quina és la paraula més llarga i la paraula més curta.\n",
    "\n",
    "Fes l'exercici sense utilitzar funcions de python com max() o min(), la idea és practicar els bucles."
   ]
  },
  {
   "cell_type": "code",
   "execution_count": 109,
   "id": "ac9761ce-de41-4539-a406-3d898c8a401b",
   "metadata": {},
   "outputs": [],
   "source": [
    "from faker import Faker\n",
    "\n",
    "def random_words(n):\n",
    "    fake = Faker()\n",
    "    return [fake.word() for _ in range(n)]"
   ]
  },
  {
   "cell_type": "code",
   "execution_count": 152,
   "id": "79ff5758-08f9-47cc-923b-45afab9e6ce2",
   "metadata": {},
   "outputs": [
    {
     "name": "stdout",
     "output_type": "stream",
     "text": [
      "['lay', 'three', 'record', 'system', 'message', 'rest', 'source', 'job', 'side', 'color']\n"
     ]
    }
   ],
   "source": [
    "mylist = random_words(10)\n",
    "print(mylist)"
   ]
  },
  {
   "cell_type": "code",
   "execution_count": 160,
   "id": "26dd6c5c-8632-4633-b7dd-103fd48e95a6",
   "metadata": {},
   "outputs": [
    {
     "name": "stdout",
     "output_type": "stream",
     "text": [
      "Les paraules més llargues són: ['message']\n",
      "Les paraules més curtes són: ['lay', 'job', 'job']\n"
     ]
    }
   ],
   "source": [
    "longest = shortest = mylist[0]\n",
    "\n",
    "for item in mylist[1:]:\n",
    "    if len(item) > len(longest):\n",
    "        longest = item\n",
    "        longest_list = [longest]\n",
    "    elif len(item) == len(longest) and item != longest:\n",
    "        longest_list.append(item)\n",
    "\n",
    "    if len(item) < len(shortest):\n",
    "        shortest = item\n",
    "        shortest_list = [shortest]\n",
    "    elif len(item) == len(shortest) and item != shortest:\n",
    "        shortest_list.append(item)\n",
    "\n",
    "print(\"Les paraules més llargues són:\", longest_list)\n",
    "print(\"Les paraules més curtes són:\", shortest_list)"
   ]
  }
 ],
 "metadata": {
  "kernelspec": {
   "display_name": "Python 3 (ipykernel)",
   "language": "python",
   "name": "python3"
  },
  "language_info": {
   "codemirror_mode": {
    "name": "ipython",
    "version": 3
   },
   "file_extension": ".py",
   "mimetype": "text/x-python",
   "name": "python",
   "nbconvert_exporter": "python",
   "pygments_lexer": "ipython3",
   "version": "3.12.4"
  }
 },
 "nbformat": 4,
 "nbformat_minor": 5
}
